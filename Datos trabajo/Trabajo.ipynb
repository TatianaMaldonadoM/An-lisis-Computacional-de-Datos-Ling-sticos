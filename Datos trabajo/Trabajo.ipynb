{
 "cells": [
  {
   "cell_type": "code",
   "execution_count": 21,
   "id": "9e0837fd-152d-4b43-bbfb-3361c0831e24",
   "metadata": {},
   "outputs": [],
   "source": [
    "#importamos pandas como pd\n",
    "import pandas as pd"
   ]
  },
  {
   "cell_type": "code",
   "execution_count": 22,
   "id": "4e05ff45-7e65-4db1-8a65-6113ddd2bb6e",
   "metadata": {},
   "outputs": [],
   "source": [
    "#definimos una lista llamada tense_present que contendrá la lectura del archivo con los datos de tiempo presente\n",
    "tense_present = pd.read_csv('tense_present.csv',sep=',')"
   ]
  },
  {
   "cell_type": "markdown",
   "id": "146c060b-ce53-4725-85e8-992f332aed3e",
   "metadata": {},
   "source": [
    "TIEMPO PRESENTE"
   ]
  },
  {
   "cell_type": "code",
   "execution_count": 23,
   "id": "14a0d706-2085-496f-ac1c-d68f929fa1c1",
   "metadata": {},
   "outputs": [
    {
     "data": {
      "text/html": [
       "<div>\n",
       "<style scoped>\n",
       "    .dataframe tbody tr th:only-of-type {\n",
       "        vertical-align: middle;\n",
       "    }\n",
       "\n",
       "    .dataframe tbody tr th {\n",
       "        vertical-align: top;\n",
       "    }\n",
       "\n",
       "    .dataframe thead th {\n",
       "        text-align: right;\n",
       "    }\n",
       "</style>\n",
       "<table border=\"1\" class=\"dataframe\">\n",
       "  <thead>\n",
       "    <tr style=\"text-align: right;\">\n",
       "      <th></th>\n",
       "      <th>iso-639-3</th>\n",
       "      <th>name</th>\n",
       "      <th>value</th>\n",
       "      <th>description</th>\n",
       "      <th>latitude</th>\n",
       "      <th>longitude</th>\n",
       "      <th>family</th>\n",
       "    </tr>\n",
       "  </thead>\n",
       "  <tbody>\n",
       "    <tr>\n",
       "      <th>0</th>\n",
       "      <td>agr</td>\n",
       "      <td>Aguaruna</td>\n",
       "      <td>N</td>\n",
       "      <td>no</td>\n",
       "      <td>-5.300440</td>\n",
       "      <td>-77.921790</td>\n",
       "      <td>Chicham</td>\n",
       "    </tr>\n",
       "    <tr>\n",
       "      <th>1</th>\n",
       "      <td>apu</td>\n",
       "      <td>Apurin�</td>\n",
       "      <td>N</td>\n",
       "      <td>no</td>\n",
       "      <td>-8.216920</td>\n",
       "      <td>-66.771410</td>\n",
       "      <td>Arawakan</td>\n",
       "    </tr>\n",
       "    <tr>\n",
       "      <th>2</th>\n",
       "      <td>arh</td>\n",
       "      <td>Arhuaco</td>\n",
       "      <td>N</td>\n",
       "      <td>no</td>\n",
       "      <td>10.701840</td>\n",
       "      <td>-73.636290</td>\n",
       "      <td>Chibchan</td>\n",
       "    </tr>\n",
       "    <tr>\n",
       "      <th>3</th>\n",
       "      <td>kwi</td>\n",
       "      <td>Awa-Cuaiquer</td>\n",
       "      <td>N</td>\n",
       "      <td>no</td>\n",
       "      <td>1.216525</td>\n",
       "      <td>-78.340135</td>\n",
       "      <td>Barbacoan</td>\n",
       "    </tr>\n",
       "    <tr>\n",
       "      <th>4</th>\n",
       "      <td>brg</td>\n",
       "      <td>Baure</td>\n",
       "      <td>N</td>\n",
       "      <td>no</td>\n",
       "      <td>-13.127750</td>\n",
       "      <td>-64.183810</td>\n",
       "      <td>Arawakan</td>\n",
       "    </tr>\n",
       "  </tbody>\n",
       "</table>\n",
       "</div>"
      ],
      "text/plain": [
       "  iso-639-3          name value description   latitude  longitude     family\n",
       "0       agr      Aguaruna     N          no  -5.300440 -77.921790    Chicham\n",
       "1       apu       Apurin�     N          no  -8.216920 -66.771410   Arawakan\n",
       "2       arh       Arhuaco     N          no  10.701840 -73.636290   Chibchan\n",
       "3       kwi  Awa-Cuaiquer     N          no   1.216525 -78.340135  Barbacoan\n",
       "4       brg         Baure     N          no -13.127750 -64.183810   Arawakan"
      ]
     },
     "execution_count": 23,
     "metadata": {},
     "output_type": "execute_result"
    }
   ],
   "source": [
    "#visualizamos la lista tense_present\n",
    "tense_present[:5]"
   ]
  },
  {
   "cell_type": "code",
   "execution_count": 24,
   "id": "2a72ebbd-69ed-4ffb-bfab-e29cc3b8ddde",
   "metadata": {},
   "outputs": [
    {
     "data": {
      "text/plain": [
       "['iso-639-3',\n",
       " 'name',\n",
       " 'value',\n",
       " 'description',\n",
       " 'latitude',\n",
       " 'longitude',\n",
       " 'family']"
      ]
     },
     "execution_count": 24,
     "metadata": {},
     "output_type": "execute_result"
    }
   ],
   "source": [
    "#visualizamos las columnas del archivo en forma de lista\n",
    "list(tense_present.columns)"
   ]
  },
  {
   "cell_type": "code",
   "execution_count": 25,
   "id": "c0700bea-276f-4f8a-b657-19655126e794",
   "metadata": {},
   "outputs": [
    {
     "data": {
      "text/html": [
       "<div>\n",
       "<style scoped>\n",
       "    .dataframe tbody tr th:only-of-type {\n",
       "        vertical-align: middle;\n",
       "    }\n",
       "\n",
       "    .dataframe tbody tr th {\n",
       "        vertical-align: top;\n",
       "    }\n",
       "\n",
       "    .dataframe thead th {\n",
       "        text-align: right;\n",
       "    }\n",
       "</style>\n",
       "<table border=\"1\" class=\"dataframe\">\n",
       "  <thead>\n",
       "    <tr style=\"text-align: right;\">\n",
       "      <th></th>\n",
       "      <th>name</th>\n",
       "      <th>value</th>\n",
       "    </tr>\n",
       "  </thead>\n",
       "  <tbody>\n",
       "    <tr>\n",
       "      <th>0</th>\n",
       "      <td>Aguaruna</td>\n",
       "      <td>N</td>\n",
       "    </tr>\n",
       "    <tr>\n",
       "      <th>1</th>\n",
       "      <td>Apurin�</td>\n",
       "      <td>N</td>\n",
       "    </tr>\n",
       "    <tr>\n",
       "      <th>2</th>\n",
       "      <td>Arhuaco</td>\n",
       "      <td>N</td>\n",
       "    </tr>\n",
       "    <tr>\n",
       "      <th>3</th>\n",
       "      <td>Awa-Cuaiquer</td>\n",
       "      <td>N</td>\n",
       "    </tr>\n",
       "    <tr>\n",
       "      <th>4</th>\n",
       "      <td>Baure</td>\n",
       "      <td>N</td>\n",
       "    </tr>\n",
       "  </tbody>\n",
       "</table>\n",
       "</div>"
      ],
      "text/plain": [
       "           name value\n",
       "0      Aguaruna     N\n",
       "1       Apurin�     N\n",
       "2       Arhuaco     N\n",
       "3  Awa-Cuaiquer     N\n",
       "4         Baure     N"
      ]
     },
     "execution_count": 25,
     "metadata": {},
     "output_type": "execute_result"
    }
   ],
   "source": [
    "#visualizamos únicamente dos columnas de tense_present (name y value)\n",
    "tense_present[['name','value']][:5]"
   ]
  },
  {
   "cell_type": "code",
   "execution_count": 26,
   "id": "63953b64-1663-4770-a77a-ed1e7c4b9c61",
   "metadata": {},
   "outputs": [],
   "source": [
    "#definimos una nueva lista llamada value_name que contendrá solo las columnas 'name' y 'value'\n",
    "value_name = tense_present[['name','value']]"
   ]
  },
  {
   "cell_type": "code",
   "execution_count": 27,
   "id": "100d17b9-3b9d-4a67-947e-350ee1fa5029",
   "metadata": {},
   "outputs": [
    {
     "data": {
      "text/html": [
       "<div>\n",
       "<style scoped>\n",
       "    .dataframe tbody tr th:only-of-type {\n",
       "        vertical-align: middle;\n",
       "    }\n",
       "\n",
       "    .dataframe tbody tr th {\n",
       "        vertical-align: top;\n",
       "    }\n",
       "\n",
       "    .dataframe thead th {\n",
       "        text-align: right;\n",
       "    }\n",
       "</style>\n",
       "<table border=\"1\" class=\"dataframe\">\n",
       "  <thead>\n",
       "    <tr style=\"text-align: right;\">\n",
       "      <th></th>\n",
       "      <th>name</th>\n",
       "      <th>value</th>\n",
       "    </tr>\n",
       "  </thead>\n",
       "  <tbody>\n",
       "    <tr>\n",
       "      <th>0</th>\n",
       "      <td>Aguaruna</td>\n",
       "      <td>N</td>\n",
       "    </tr>\n",
       "    <tr>\n",
       "      <th>1</th>\n",
       "      <td>Apurin�</td>\n",
       "      <td>N</td>\n",
       "    </tr>\n",
       "    <tr>\n",
       "      <th>2</th>\n",
       "      <td>Arhuaco</td>\n",
       "      <td>N</td>\n",
       "    </tr>\n",
       "    <tr>\n",
       "      <th>3</th>\n",
       "      <td>Awa-Cuaiquer</td>\n",
       "      <td>N</td>\n",
       "    </tr>\n",
       "    <tr>\n",
       "      <th>4</th>\n",
       "      <td>Baure</td>\n",
       "      <td>N</td>\n",
       "    </tr>\n",
       "  </tbody>\n",
       "</table>\n",
       "</div>"
      ],
      "text/plain": [
       "           name value\n",
       "0      Aguaruna     N\n",
       "1       Apurin�     N\n",
       "2       Arhuaco     N\n",
       "3  Awa-Cuaiquer     N\n",
       "4         Baure     N"
      ]
     },
     "execution_count": 27,
     "metadata": {},
     "output_type": "execute_result"
    }
   ],
   "source": [
    "value_name[:5]"
   ]
  },
  {
   "cell_type": "code",
   "execution_count": 28,
   "id": "28d50a0f-0069-4e64-98c3-550d0bacb7a0",
   "metadata": {},
   "outputs": [],
   "source": [
    "#creamos un diccionario con las columnas 'name' y 'value'. Name=keys y value=values.\n",
    "value_name1 = dict(zip(value_name['name'], value_name['value']))"
   ]
  },
  {
   "cell_type": "code",
   "execution_count": 29,
   "id": "06a98966-a860-40d9-ba59-36b47dc8ea44",
   "metadata": {},
   "outputs": [
    {
     "data": {
      "text/plain": [
       "{'Aguaruna': 'N',\n",
       " 'Apurin�': 'N',\n",
       " 'Arhuaco': 'N',\n",
       " 'Awa-Cuaiquer': 'N',\n",
       " 'Baure': 'N',\n",
       " 'Bora': 'N',\n",
       " 'Bororo': 'N',\n",
       " 'Canela': 'N',\n",
       " 'Cavine�a': 'N',\n",
       " 'Central Aymara': 'AFF',\n",
       " 'Chimila': 'N',\n",
       " 'Cocama-Cocamilla': 'N',\n",
       " 'Cubeo': 'AFF',\n",
       " 'Cusco Quechua': 'N',\n",
       " 'Desano': 'AFF',\n",
       " 'D�w': 'N',\n",
       " 'Emerillon': 'N',\n",
       " 'Hixkary�na': 'AFF',\n",
       " 'Huallaga Hu�nuco Quechua': 'N',\n",
       " 'Hupd�': 'N',\n",
       " 'Imbabura Highland Quichua': 'N',\n",
       " 'Itonama': 'N',\n",
       " 'Jamamad�': 'N',\n",
       " 'Kaingang': 'N',\n",
       " 'Kamayur�': 'N',\n",
       " 'Kano�': 'N',\n",
       " 'Kariti�na': 'AFF',\n",
       " 'Karo (Brazil)': 'N',\n",
       " 'Kwaza': 'N',\n",
       " 'Leco': 'AFF',\n",
       " 'Mamaind�': 'AFF',\n",
       " 'Mapudungun': 'N',\n",
       " 'Mats�s': 'AFF',\n",
       " 'Mocov�': 'N',\n",
       " 'Moset�n': 'N',\n",
       " 'Movima': 'N',\n",
       " 'Muniche': 'N',\n",
       " 'Nhengatu': 'N',\n",
       " 'Ninam': 'N',\n",
       " 'Northern Ember�': 'AFF',\n",
       " 'Panare': 'AFF',\n",
       " 'Parec�s': 'N',\n",
       " 'Pilag�': 'N',\n",
       " 'Puinave': 'N',\n",
       " 'P�ez': 'N',\n",
       " 'Rikbaktsa': 'AFF',\n",
       " 'Saban�': 'AFF',\n",
       " 'Sakirabia': 'N',\n",
       " 'Sater�-Maw�': 'N',\n",
       " 'Shipibo-Conibo': 'N',\n",
       " 'Shuar': 'N',\n",
       " 'Tapiet�': 'N',\n",
       " 'Tariana': 'CLI',\n",
       " 'Tehuelche': '?',\n",
       " 'Tri�': 'AFF',\n",
       " 'Trumai': 'PAR',\n",
       " 'Tsafiki': 'N',\n",
       " 'Urarina': 'N',\n",
       " 'Warao': 'AFF',\n",
       " 'Wari': 'CLI',\n",
       " 'Wich� Lhamt�s Nocten': 'N',\n",
       " 'Yaminahua': 'N',\n",
       " \"Yanesha'\": 'N',\n",
       " 'Yuracar�': 'N'}"
      ]
     },
     "execution_count": 29,
     "metadata": {},
     "output_type": "execute_result"
    }
   ],
   "source": [
    "value_name1"
   ]
  },
  {
   "cell_type": "code",
   "execution_count": null,
   "id": "9adca3eb-ee22-4398-aae7-0a161342b973",
   "metadata": {},
   "outputs": [],
   "source": []
  },
  {
   "cell_type": "code",
   "execution_count": 71,
   "id": "19444d7b-0ab2-4929-9ddd-afef229348be",
   "metadata": {},
   "outputs": [
    {
     "ename": "NameError",
     "evalue": "name 'N' is not defined",
     "output_type": "error",
     "traceback": [
      "\u001b[1;31m---------------------------------------------------------------------------\u001b[0m",
      "\u001b[1;31mNameError\u001b[0m                                 Traceback (most recent call last)",
      "\u001b[1;32m<ipython-input-71-21193a9cd4b7>\u001b[0m in \u001b[0;36m<module>\u001b[1;34m\u001b[0m\n\u001b[0;32m      1\u001b[0m \u001b[0mno_marcacion\u001b[0m \u001b[1;33m=\u001b[0m \u001b[1;33m[\u001b[0m\u001b[1;33m]\u001b[0m\u001b[1;33m\u001b[0m\u001b[1;33m\u001b[0m\u001b[0m\n\u001b[0;32m      2\u001b[0m \u001b[1;32mfor\u001b[0m \u001b[0mkey\u001b[0m \u001b[1;32min\u001b[0m \u001b[0mvalue_name1\u001b[0m\u001b[1;33m:\u001b[0m\u001b[1;33m\u001b[0m\u001b[1;33m\u001b[0m\u001b[0m\n\u001b[1;32m----> 3\u001b[1;33m     \u001b[1;32mif\u001b[0m \u001b[0mkey\u001b[0m \u001b[1;33m==\u001b[0m\u001b[0mN\u001b[0m\u001b[1;33m:\u001b[0m\u001b[1;33m\u001b[0m\u001b[1;33m\u001b[0m\u001b[0m\n\u001b[0m\u001b[0;32m      4\u001b[0m         \u001b[0mno_marcacion\u001b[0m \u001b[1;33m=\u001b[0m \u001b[0mno_marcación\u001b[0m \u001b[1;33m+\u001b[0m \u001b[1;33m[\u001b[0m\u001b[0mkey\u001b[0m\u001b[1;33m]\u001b[0m\u001b[1;33m\u001b[0m\u001b[1;33m\u001b[0m\u001b[0m\n",
      "\u001b[1;31mNameError\u001b[0m: name 'N' is not defined"
     ]
    }
   ],
   "source": [
    "##no_marcacion = []\n",
    "##for key in value_name1:\n",
    "    ##if key ==N:\n",
    "        ##no_marcacion = no_marcación + [key]"
   ]
  },
  {
   "cell_type": "code",
   "execution_count": 87,
   "id": "f076345d-4e7a-4c50-9b89-5e5f3082906d",
   "metadata": {},
   "outputs": [
    {
     "ename": "KeyError",
     "evalue": "'N'",
     "output_type": "error",
     "traceback": [
      "\u001b[1;31m---------------------------------------------------------------------------\u001b[0m",
      "\u001b[1;31mKeyError\u001b[0m                                  Traceback (most recent call last)",
      "\u001b[1;32m<ipython-input-87-e8effc7fd25a>\u001b[0m in \u001b[0;36m<module>\u001b[1;34m\u001b[0m\n\u001b[0;32m      2\u001b[0m \u001b[1;33m\u001b[0m\u001b[0m\n\u001b[0;32m      3\u001b[0m \u001b[1;32mfor\u001b[0m \u001b[0mlengua\u001b[0m \u001b[1;32min\u001b[0m \u001b[0mvalue_name1\u001b[0m\u001b[1;33m.\u001b[0m\u001b[0mvalues\u001b[0m\u001b[1;33m(\u001b[0m\u001b[1;33m)\u001b[0m\u001b[1;33m:\u001b[0m\u001b[1;33m\u001b[0m\u001b[1;33m\u001b[0m\u001b[0m\n\u001b[1;32m----> 4\u001b[1;33m     \u001b[1;32mif\u001b[0m \u001b[0mvalue_name1\u001b[0m\u001b[1;33m[\u001b[0m\u001b[0mkey\u001b[0m\u001b[1;33m]\u001b[0m\u001b[1;33m==\u001b[0m\u001b[1;36m3\u001b[0m\u001b[1;33m:\u001b[0m\u001b[1;33m\u001b[0m\u001b[1;33m\u001b[0m\u001b[0m\n\u001b[0m\u001b[0;32m      5\u001b[0m         \u001b[0mno_marcacion\u001b[0m\u001b[1;33m+=\u001b[0m\u001b[1;33m[\u001b[0m\u001b[0mvalue\u001b[0m\u001b[1;33m]\u001b[0m\u001b[1;33m\u001b[0m\u001b[1;33m\u001b[0m\u001b[0m\n",
      "\u001b[1;31mKeyError\u001b[0m: 'N'"
     ]
    }
   ],
   "source": [
    "no_marcacion = []\n",
    "\n",
    "for lengua in value_name1.values():\n",
    "    if value_name1[key]==3:\n",
    "        no_marcacion+=[value]"
   ]
  },
  {
   "cell_type": "code",
   "execution_count": 84,
   "id": "5ed97e46-5716-49a5-a0db-2ae2f175e31b",
   "metadata": {},
   "outputs": [
    {
     "data": {
      "text/plain": [
       "[]"
      ]
     },
     "execution_count": 84,
     "metadata": {},
     "output_type": "execute_result"
    }
   ],
   "source": [
    "no_marcacion"
   ]
  },
  {
   "cell_type": "code",
   "execution_count": 32,
   "id": "f37c015b-8367-4dff-90ba-1c5dc3b3b400",
   "metadata": {},
   "outputs": [],
   "source": [
    "valores = set(value_name1.values())"
   ]
  },
  {
   "cell_type": "code",
   "execution_count": 33,
   "id": "ddc8af57-c822-4886-b84a-2abe93509945",
   "metadata": {},
   "outputs": [
    {
     "data": {
      "text/plain": [
       "{'?', 'AFF', 'CLI', 'N', 'PAR'}"
      ]
     },
     "execution_count": 33,
     "metadata": {},
     "output_type": "execute_result"
    }
   ],
   "source": [
    "valores"
   ]
  },
  {
   "cell_type": "code",
   "execution_count": 58,
   "id": "da8bf5cd-655d-436b-9468-abc92d8a57ed",
   "metadata": {},
   "outputs": [],
   "source": [
    "lista_valores = []\n",
    "lista_valores = list(valores)"
   ]
  },
  {
   "cell_type": "code",
   "execution_count": 59,
   "id": "c1cd8dc4-e34a-43a6-9776-fb6bf7ab2dd8",
   "metadata": {},
   "outputs": [
    {
     "data": {
      "text/plain": [
       "['N', 'CLI', 'PAR', '?', 'AFF']"
      ]
     },
     "execution_count": 59,
     "metadata": {},
     "output_type": "execute_result"
    }
   ],
   "source": [
    "lista_valores\n"
   ]
  },
  {
   "cell_type": "code",
   "execution_count": 66,
   "id": "4ed2cac1-54ae-4cf8-b312-c02bc8d8ec4c",
   "metadata": {},
   "outputs": [],
   "source": [
    "no_marcacion = []\n",
    "\n",
    "for value in lista_valores:\n",
    "    if value ==lista_valores[0]:\n",
    "        no_marcacion = no_marcacion + [lista_valores]"
   ]
  },
  {
   "cell_type": "code",
   "execution_count": 67,
   "id": "ce2deda2-f533-49b9-835f-d17e7a43206f",
   "metadata": {},
   "outputs": [
    {
     "data": {
      "text/plain": [
       "[['N', 'CLI', 'PAR', '?', 'AFF']]"
      ]
     },
     "execution_count": 67,
     "metadata": {},
     "output_type": "execute_result"
    }
   ],
   "source": [
    "no_marcacion"
   ]
  },
  {
   "cell_type": "code",
   "execution_count": null,
   "id": "d4f7fb90-b408-4de7-94c3-86efa7c2860d",
   "metadata": {},
   "outputs": [],
   "source": []
  },
  {
   "cell_type": "code",
   "execution_count": null,
   "id": "c3cc3284-03bf-4e9a-88d7-bd2e1e6c4222",
   "metadata": {},
   "outputs": [],
   "source": []
  }
 ],
 "metadata": {
  "kernelspec": {
   "display_name": "Python 3",
   "language": "python",
   "name": "python3"
  },
  "language_info": {
   "codemirror_mode": {
    "name": "ipython",
    "version": 3
   },
   "file_extension": ".py",
   "mimetype": "text/x-python",
   "name": "python",
   "nbconvert_exporter": "python",
   "pygments_lexer": "ipython3",
   "version": "3.8.8"
  }
 },
 "nbformat": 4,
 "nbformat_minor": 5
}
